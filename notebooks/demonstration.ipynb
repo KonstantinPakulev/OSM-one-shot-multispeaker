{
 "cells": [
  {
   "cell_type": "markdown",
   "id": "745ee07a",
   "metadata": {},
   "source": [
    "# One-Shot Learning Example"
   ]
  },
  {
   "cell_type": "markdown",
   "id": "d3dff486",
   "metadata": {},
   "source": [
    "Launch the Jupyter Notebook in the folder **notebooks** and run the following cells"
   ]
  },
  {
   "cell_type": "code",
   "execution_count": 1,
   "id": "b0853b73",
   "metadata": {},
   "outputs": [],
   "source": [
    "import os\n",
    "os.chdir('../src')\n",
    "from tts_modules.common.multispeaker import MultispeakerManager\n",
    "import yaml\n",
    "import warnings\n",
    "warnings.filterwarnings(\"ignore\")\n"
   ]
  },
  {
   "cell_type": "markdown",
   "id": "e18ff760",
   "metadata": {},
   "source": [
    "Create a 5-second .wav file with someone speaking English and put it into the folder **audio_samples**.\n",
    "Set the path to your .wav file in the attribute `SPEAKER_SPEECH_PATH` in `src/tts_modules/common/configs/main_config.yaml`.\n",
    "We suggest to use the app [Audio Recorder](https://apps.apple.com/us/app/audio-recorder-wav-m4a/id1454488895) to record the voice. Set the sample rate to 16HGz there.\n",
    "\n",
    "Create a .txt file with some text and put it into **texts** folder. Set the path to your .txt file in the attribute `INPUT_TEXTS_PATH` in `src/tts_modules/common/configs/main_config.yaml`.\n",
    "\n",
    "\n",
    "The examples are already present in these folders."
   ]
  },
  {
   "cell_type": "code",
   "execution_count": 2,
   "id": "b3905c0c",
   "metadata": {},
   "outputs": [],
   "source": [
    "with open(os.path.join(os.getcwd(), 'tts_modules/common/configs/main_config.yaml'), \"r\") as ymlfile:\n",
    "    main_config = yaml.load(ymlfile)\n",
    "    \n",
    "SPEAKER_SPEECH_PATH = \"../audio_samples\"\n",
    "if not os.path.exists(SPEAKER_SPEECH_PATH):\n",
    "    os.makedirs(SPEAKER_SPEECH_PATH)\n",
    "    \n",
    "INPUT_TEXTS_PATH = \"../texts\"\n",
    "if not os.path.exists(INPUT_TEXTS_PATH):\n",
    "    os.makedirs(INPUT_TEXTS_PATH)\n",
    "    \n",
    "OUTPUT_AUDIO_DIR = \"../result_speech\"\n",
    "if not os.path.exists(OUTPUT_AUDIO_DIR):\n",
    "    os.makedirs(OUTPUT_AUDIO_DIR)"
   ]
  },
  {
   "cell_type": "code",
   "execution_count": 3,
   "id": "579b2553",
   "metadata": {
    "scrolled": false
   },
   "outputs": [
    {
     "name": "stdout",
     "output_type": "stream",
     "text": [
      "Trainable Parameters: 30.870M\n"
     ]
    }
   ],
   "source": [
    "multispeaker_manager = MultispeakerManager(main_config)\n",
    "multispeaker_manager.inference()"
   ]
  },
  {
   "cell_type": "markdown",
   "id": "1cf53241",
   "metadata": {},
   "source": [
    "The results will be available in the folder `result_speech`. The name of the file will be **result.wav**."
   ]
  },
  {
   "cell_type": "code",
   "execution_count": null,
   "id": "adb08cb8",
   "metadata": {},
   "outputs": [],
   "source": []
  },
  {
   "cell_type": "code",
   "execution_count": null,
   "id": "3a1904da",
   "metadata": {},
   "outputs": [],
   "source": []
  }
 ],
 "metadata": {
  "kernelspec": {
   "display_name": "Python 3",
   "language": "python",
   "name": "python3"
  },
  "language_info": {
   "codemirror_mode": {
    "name": "ipython",
    "version": 3
   },
   "file_extension": ".py",
   "mimetype": "text/x-python",
   "name": "python",
   "nbconvert_exporter": "python",
   "pygments_lexer": "ipython3",
   "version": "3.9.0"
  }
 },
 "nbformat": 4,
 "nbformat_minor": 5
}
