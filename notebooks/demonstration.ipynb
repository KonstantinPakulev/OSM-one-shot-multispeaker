{
 "cells": [
  {
   "cell_type": "code",
   "execution_count": null,
   "id": "b0853b73",
   "metadata": {},
   "outputs": [],
   "source": [
    "import os\n",
    "os.chdir('../src')\n",
    "os.getcwd()"
   ]
  },
  {
   "cell_type": "code",
   "execution_count": null,
   "id": "2aea0823",
   "metadata": {},
   "outputs": [],
   "source": [
    "from tts_modules.common.multispeaker import MultispeakerManager\n",
    "import yaml"
   ]
  },
  {
   "cell_type": "code",
   "execution_count": null,
   "id": "b3905c0c",
   "metadata": {},
   "outputs": [],
   "source": [
    "with open(os.path.join(os.getcwd(), 'tts_modules/common/configs/main_config.yaml'), \"r\") as ymlfile:\n",
    "    main_config = yaml.load(ymlfile)"
   ]
  },
  {
   "cell_type": "code",
   "execution_count": null,
   "id": "579b2553",
   "metadata": {
    "scrolled": false
   },
   "outputs": [],
   "source": [
    "m = MultispeakerManager(main_config)"
   ]
  },
  {
   "cell_type": "code",
   "execution_count": null,
   "id": "9e0993f8",
   "metadata": {},
   "outputs": [],
   "source": []
  },
  {
   "cell_type": "code",
   "execution_count": null,
   "id": "c138e2ab",
   "metadata": {},
   "outputs": [],
   "source": []
  }
 ],
 "metadata": {
  "kernelspec": {
   "display_name": "Python 3",
   "language": "python",
   "name": "python3"
  },
  "language_info": {
   "codemirror_mode": {
    "name": "ipython",
    "version": 3
   },
   "file_extension": ".py",
   "mimetype": "text/x-python",
   "name": "python",
   "nbconvert_exporter": "python",
   "pygments_lexer": "ipython3",
   "version": "3.9.0"
  }
 },
 "nbformat": 4,
 "nbformat_minor": 5
}
